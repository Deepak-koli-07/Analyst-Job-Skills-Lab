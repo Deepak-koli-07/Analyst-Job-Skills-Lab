{
 "cells": [
  {
   "cell_type": "markdown",
   "id": "2929f94c",
   "metadata": {},
   "source": [
    "### This notebook highlights key data analysis and management skills, with a focus on master data management, data reconciliation, data cleaning, and visualization. It involves creating, updating, and reconciling data in a master dataset, using analytical techniques to produce useful insights."
   ]
  },
  {
   "cell_type": "markdown",
   "id": "b2054488",
   "metadata": {},
   "source": [
    "## Import necessary libraries\n"
   ]
  },
  {
   "cell_type": "code",
   "execution_count": 10,
   "id": "710b68c6",
   "metadata": {},
   "outputs": [],
   "source": [
    "import pandas as pd\n",
    "import numpy as np\n",
    "from sqlalchemy import create_engine\n",
    "from faker import Faker\n",
    "import matplotlib.pyplot as plt\n",
    "import seaborn as sns\n"
   ]
  },
  {
   "cell_type": "code",
   "execution_count": 2,
   "id": "2715d1d6",
   "metadata": {},
   "outputs": [
    {
     "name": "stdout",
     "output_type": "stream",
     "text": [
      "Business Entities (first 5 rows):\n",
      "   EntityID     EntityName       Industry  Revenue\n",
      "0         1     Blake-Howe  Manufacturing  2985936\n",
      "1         2  Clark-Johnson           Tech  9329695\n",
      "2         3        Kim Inc         Retail  7879652\n",
      "3         4  Davis-Daniels         Retail  2089379\n",
      "4         5  Stevens-Estes         Retail  7436407\n",
      "\n",
      "Client Segmentation (first 5 rows):\n",
      "   ClientID         ClientName     Segment         Region\n",
      "0         1        Douglas Cox         SME  North America\n",
      "1         2       Pamela Davis         SME         Europe\n",
      "2         3  Jacqueline Thomas  Enterprise  South America\n",
      "3         4     Zachary Knight         SME         Africa\n",
      "4         5     Eugene Burnett         SME           Asia\n",
      "\n",
      "Industry Data (all rows):\n",
      "   IndustryID   IndustryName  GrowthRate\n",
      "0           1           Tech    0.067932\n",
      "1           2        Finance    0.116132\n",
      "2           3     Healthcare    0.098066\n",
      "3           4         Retail    0.079392\n",
      "4           5  Manufacturing    0.074447\n",
      "\n",
      "Contact Data (first 5 rows):\n",
      "   ContactID  EntityID         ContactName                          Email\n",
      "0          1       551  Christopher Brooks         sandydavis@example.net\n",
      "1          2       893         Kevin Brown  campbellalexandra@example.com\n",
      "2          3       809    Mackenzie Robles          pottslisa@example.com\n",
      "3          4       831      Brandon Parker  elizabethcopeland@example.org\n",
      "4          5       839           Selena Le   gabrielladaniels@example.com\n"
     ]
    }
   ],
   "source": [
    "# Initialize Faker for generating random data\n",
    "fake = Faker()\n",
    "\n",
    "# Data Preparation (1000 rows)\n",
    "# Creating a dataset of 1000 rows for Business Entities\n",
    "np.random.seed(0)\n",
    "business_entities = pd.DataFrame({\n",
    "    'EntityID': range(1, 1001),\n",
    "    'EntityName': [fake.company() for _ in range(1000)],\n",
    "    'Industry': np.random.choice(['Tech', 'Finance', 'Healthcare', 'Retail', 'Manufacturing'], 1000),\n",
    "    'Revenue': np.random.randint(100000, 10000000, 1000)  # Revenue between 100k and 10M\n",
    "})\n",
    "\n",
    "# Creating a dataset of 1000 rows for Client Segmentation\n",
    "client_segmentation = pd.DataFrame({\n",
    "    'ClientID': range(1, 1001),\n",
    "    'ClientName': [fake.name() for _ in range(1000)],\n",
    "    'Segment': np.random.choice(['Enterprise', 'SME', 'Startup'], 1000),\n",
    "    'Region': np.random.choice(['North America', 'Europe', 'Asia', 'South America', 'Africa'], 1000)\n",
    "})\n",
    "\n",
    "# Industry Data (Creating growth rates for each industry)\n",
    "industry_data = pd.DataFrame({\n",
    "    'IndustryID': range(1, 6),  # One row per industry\n",
    "    'IndustryName': ['Tech', 'Finance', 'Healthcare', 'Retail', 'Manufacturing'],\n",
    "    'GrowthRate': np.random.uniform(0.05, 0.20, 5)  # Random growth rates between 5% and 20%\n",
    "})\n",
    "\n",
    "# Creating a dataset of 1000 rows for Contact Data\n",
    "contact_data = pd.DataFrame({\n",
    "    'ContactID': range(1, 1001),\n",
    "    'EntityID': np.random.randint(1, 1001, 1000),  # Randomly assign Entity IDs from 1 to 1000\n",
    "    'ContactName': [fake.name() for _ in range(1000)],\n",
    "    'Email': [fake.email() for _ in range(1000)]\n",
    "})\n",
    "\n",
    "# Previewing the first 5 rows of each dataset\n",
    "print(\"Business Entities (first 5 rows):\")\n",
    "print(business_entities.head())\n",
    "print(\"\\nClient Segmentation (first 5 rows):\")\n",
    "print(client_segmentation.head())\n",
    "print(\"\\nIndustry Data (all rows):\")\n",
    "print(industry_data)\n",
    "print(\"\\nContact Data (first 5 rows):\")\n",
    "print(contact_data.head())\n"
   ]
  },
  {
   "cell_type": "markdown",
   "id": "e12270e4",
   "metadata": {},
   "source": [
    "## Data Cleaning & Transformation"
   ]
  },
  {
   "cell_type": "code",
   "execution_count": 15,
   "id": "20fd00bc",
   "metadata": {},
   "outputs": [
    {
     "name": "stdout",
     "output_type": "stream",
     "text": [
      "\n",
      "Cleaned Client Segmentation Data (first 5 rows):\n"
     ]
    },
    {
     "data": {
      "text/html": [
       "<div>\n",
       "<style scoped>\n",
       "    .dataframe tbody tr th:only-of-type {\n",
       "        vertical-align: middle;\n",
       "    }\n",
       "\n",
       "    .dataframe tbody tr th {\n",
       "        vertical-align: top;\n",
       "    }\n",
       "\n",
       "    .dataframe thead th {\n",
       "        text-align: right;\n",
       "    }\n",
       "</style>\n",
       "<table border=\"1\" class=\"dataframe\">\n",
       "  <thead>\n",
       "    <tr style=\"text-align: right;\">\n",
       "      <th></th>\n",
       "      <th>ClientID</th>\n",
       "      <th>ClientName</th>\n",
       "      <th>Segment</th>\n",
       "      <th>Region</th>\n",
       "    </tr>\n",
       "  </thead>\n",
       "  <tbody>\n",
       "    <tr>\n",
       "      <th>0</th>\n",
       "      <td>1</td>\n",
       "      <td>Douglas Cox</td>\n",
       "      <td>SME</td>\n",
       "      <td>North America</td>\n",
       "    </tr>\n",
       "    <tr>\n",
       "      <th>1</th>\n",
       "      <td>2</td>\n",
       "      <td>Pamela Davis</td>\n",
       "      <td>SME</td>\n",
       "      <td>Unknown</td>\n",
       "    </tr>\n",
       "    <tr>\n",
       "      <th>2</th>\n",
       "      <td>3</td>\n",
       "      <td>Jacqueline Thomas</td>\n",
       "      <td>Enterprise</td>\n",
       "      <td>South America</td>\n",
       "    </tr>\n",
       "    <tr>\n",
       "      <th>3</th>\n",
       "      <td>4</td>\n",
       "      <td>Zachary Knight</td>\n",
       "      <td>SME</td>\n",
       "      <td>Africa</td>\n",
       "    </tr>\n",
       "    <tr>\n",
       "      <th>4</th>\n",
       "      <td>5</td>\n",
       "      <td>Eugene Burnett</td>\n",
       "      <td>SME</td>\n",
       "      <td>Asia</td>\n",
       "    </tr>\n",
       "  </tbody>\n",
       "</table>\n",
       "</div>"
      ],
      "text/plain": [
       "   ClientID         ClientName     Segment         Region\n",
       "0         1        Douglas Cox         SME  North America\n",
       "1         2       Pamela Davis         SME        Unknown\n",
       "2         3  Jacqueline Thomas  Enterprise  South America\n",
       "3         4     Zachary Knight         SME         Africa\n",
       "4         5     Eugene Burnett         SME           Asia"
      ]
     },
     "execution_count": 15,
     "metadata": {},
     "output_type": "execute_result"
    }
   ],
   "source": [
    "# Example of handling missing data and duplicates\n",
    "# Simulate missing data by manually inserting NaN values in the client segmentation\n",
    "client_segmentation.loc[1, 'Region'] = np.nan\n",
    "\n",
    "# Handling missing data: Filling missing values with a placeholder ('Unknown' in this case)\n",
    "client_segmentation['Region'] = client_segmentation['Region'].fillna('Unknown')\n",
    "\n",
    "# Remove duplicates (if any) to maintain data integrity\n",
    "client_segmentation = client_segmentation.drop_duplicates()\n",
    "\n",
    "# Display the cleaned dataset\n",
    "print(\"\\nCleaned Client Segmentation Data (first 5 rows):\")\n",
    "client_segmentation.head()\n"
   ]
  },
  {
   "cell_type": "markdown",
   "id": "539225a3",
   "metadata": {},
   "source": [
    "## Master Data Management (CRUD Operations)\n"
   ]
  },
  {
   "cell_type": "code",
   "execution_count": 4,
   "id": "9d9867e4",
   "metadata": {},
   "outputs": [
    {
     "name": "stdout",
     "output_type": "stream",
     "text": [
      "\n",
      "Read data from database:\n",
      "   EntityID     EntityName       Industry  Revenue\n",
      "0         1     Blake-Howe  Manufacturing  2985936\n",
      "1         2  Clark-Johnson           Tech  9329695\n",
      "2         3        Kim Inc         Retail  7879652\n",
      "3         4  Davis-Daniels         Retail  2089379\n",
      "4         5  Stevens-Estes         Retail  7436407\n",
      "\n",
      "Updated data (first 5 rows):\n",
      "   EntityID     EntityName       Industry  Revenue\n",
      "0         1     Blake-Howe  Manufacturing   600000\n",
      "1         2  Clark-Johnson           Tech  9329695\n",
      "2         3        Kim Inc         Retail  7879652\n",
      "3         4  Davis-Daniels         Retail  2089379\n",
      "4         5  Stevens-Estes         Retail  7436407\n",
      "\n",
      "Reconciled Data (Business Entities with Contact Info, first 5 rows):\n",
      "   EntityID                   EntityName       Industry  Revenue  ContactID  \\\n",
      "0         1                   Blake-Howe  Manufacturing  2985936        337   \n",
      "1         3                      Kim Inc         Retail  7879652        327   \n",
      "2         6                  Bates-Lopez        Finance  1552317        999   \n",
      "3         7     Chung, Johnson and Wolfe         Retail  7021374        701   \n",
      "4         9  Martin, Meadows and Mahoney  Manufacturing  7906268         53   \n",
      "\n",
      "         ContactName                         Email  \n",
      "0        Kenneth Roy           oingram@example.com  \n",
      "1      Laura Simmons  robertsonheather@example.net  \n",
      "2    Robert Peterson    matthewjackson@example.com  \n",
      "3     Jeffrey Hunter            ppitts@example.org  \n",
      "4  Monique Velazquez       francoscott@example.net  \n"
     ]
    }
   ],
   "source": [
    "# Setting up an in-memory SQLite database for data storage and manipulation\n",
    "engine = create_engine('sqlite:///:memory:')\n",
    "\n",
    "# Store the business entities data in the SQLite database\n",
    "business_entities.to_sql('business_entities', con=engine, index=False, if_exists='replace')\n",
    "\n",
    "# Read data from the database (the \"R\" in CRUD - Read operation)\n",
    "data = pd.read_sql('SELECT * FROM business_entities', con=engine)\n",
    "print(\"\\nRead data from database:\")\n",
    "print(data.head())\n",
    "\n",
    "# Updating a record (the \"U\" in CRUD - Update operation)\n",
    "# Example: Updating the revenue for the first business entity\n",
    "engine.execute(\"UPDATE business_entities SET Revenue = 600000 WHERE EntityID = 1\")\n",
    "\n",
    "# Verifying the update\n",
    "updated_data = pd.read_sql('SELECT * FROM business_entities', con=engine)\n",
    "print(\"\\nUpdated data (first 5 rows):\")\n",
    "print(updated_data.head())\n",
    "\n"
   ]
  },
  {
   "cell_type": "markdown",
   "id": "2a1ac4f2",
   "metadata": {},
   "source": [
    "## Data Reconciliation\n"
   ]
  },
  {
   "cell_type": "code",
   "execution_count": 14,
   "id": "0c4a25d6",
   "metadata": {},
   "outputs": [
    {
     "name": "stdout",
     "output_type": "stream",
     "text": [
      "\n",
      "Reconciled Data (Business Entities with Contact Info, first 5 rows):\n"
     ]
    },
    {
     "data": {
      "text/html": [
       "<div>\n",
       "<style scoped>\n",
       "    .dataframe tbody tr th:only-of-type {\n",
       "        vertical-align: middle;\n",
       "    }\n",
       "\n",
       "    .dataframe tbody tr th {\n",
       "        vertical-align: top;\n",
       "    }\n",
       "\n",
       "    .dataframe thead th {\n",
       "        text-align: right;\n",
       "    }\n",
       "</style>\n",
       "<table border=\"1\" class=\"dataframe\">\n",
       "  <thead>\n",
       "    <tr style=\"text-align: right;\">\n",
       "      <th></th>\n",
       "      <th>EntityID</th>\n",
       "      <th>EntityName</th>\n",
       "      <th>Industry</th>\n",
       "      <th>Revenue</th>\n",
       "      <th>ContactID</th>\n",
       "      <th>ContactName</th>\n",
       "      <th>Email</th>\n",
       "    </tr>\n",
       "  </thead>\n",
       "  <tbody>\n",
       "    <tr>\n",
       "      <th>0</th>\n",
       "      <td>1</td>\n",
       "      <td>Blake-Howe</td>\n",
       "      <td>Manufacturing</td>\n",
       "      <td>2985936</td>\n",
       "      <td>337</td>\n",
       "      <td>Kenneth Roy</td>\n",
       "      <td>oingram@example.com</td>\n",
       "    </tr>\n",
       "    <tr>\n",
       "      <th>1</th>\n",
       "      <td>3</td>\n",
       "      <td>Kim Inc</td>\n",
       "      <td>Retail</td>\n",
       "      <td>7879652</td>\n",
       "      <td>327</td>\n",
       "      <td>Laura Simmons</td>\n",
       "      <td>robertsonheather@example.net</td>\n",
       "    </tr>\n",
       "    <tr>\n",
       "      <th>2</th>\n",
       "      <td>6</td>\n",
       "      <td>Bates-Lopez</td>\n",
       "      <td>Finance</td>\n",
       "      <td>1552317</td>\n",
       "      <td>999</td>\n",
       "      <td>Robert Peterson</td>\n",
       "      <td>matthewjackson@example.com</td>\n",
       "    </tr>\n",
       "    <tr>\n",
       "      <th>3</th>\n",
       "      <td>7</td>\n",
       "      <td>Chung, Johnson and Wolfe</td>\n",
       "      <td>Retail</td>\n",
       "      <td>7021374</td>\n",
       "      <td>701</td>\n",
       "      <td>Jeffrey Hunter</td>\n",
       "      <td>ppitts@example.org</td>\n",
       "    </tr>\n",
       "    <tr>\n",
       "      <th>4</th>\n",
       "      <td>9</td>\n",
       "      <td>Martin, Meadows and Mahoney</td>\n",
       "      <td>Manufacturing</td>\n",
       "      <td>7906268</td>\n",
       "      <td>53</td>\n",
       "      <td>Monique Velazquez</td>\n",
       "      <td>francoscott@example.net</td>\n",
       "    </tr>\n",
       "  </tbody>\n",
       "</table>\n",
       "</div>"
      ],
      "text/plain": [
       "   EntityID                   EntityName       Industry  Revenue  ContactID  \\\n",
       "0         1                   Blake-Howe  Manufacturing  2985936        337   \n",
       "1         3                      Kim Inc         Retail  7879652        327   \n",
       "2         6                  Bates-Lopez        Finance  1552317        999   \n",
       "3         7     Chung, Johnson and Wolfe         Retail  7021374        701   \n",
       "4         9  Martin, Meadows and Mahoney  Manufacturing  7906268         53   \n",
       "\n",
       "         ContactName                         Email  \n",
       "0        Kenneth Roy           oingram@example.com  \n",
       "1      Laura Simmons  robertsonheather@example.net  \n",
       "2    Robert Peterson    matthewjackson@example.com  \n",
       "3     Jeffrey Hunter            ppitts@example.org  \n",
       "4  Monique Velazquez       francoscott@example.net  "
      ]
     },
     "execution_count": 14,
     "metadata": {},
     "output_type": "execute_result"
    }
   ],
   "source": [
    "# Merging two datasets to perform reconciliation: business_entities and contact_data\n",
    "# In a real-world scenario, this could be akin to merging data from different systems like Salesforce and OBIEE\n",
    "\n",
    "# Merge business entities with their contact information\n",
    "reconciled_data = pd.merge(business_entities, contact_data, on='EntityID', how='inner')\n",
    "\n",
    "# Display reconciled data\n",
    "print(\"\\nReconciled Data (Business Entities with Contact Info, first 5 rows):\")\n",
    "reconciled_data.head()"
   ]
  },
  {
   "cell_type": "markdown",
   "id": "fcda6cac",
   "metadata": {},
   "source": [
    "## Secondary Research Data Synthesis\n"
   ]
  },
  {
   "cell_type": "code",
   "execution_count": 12,
   "id": "3170977a",
   "metadata": {},
   "outputs": [
    {
     "name": "stdout",
     "output_type": "stream",
     "text": [
      "\n",
      "Industry-wise Summary of Revenue and Growth Rate:\n",
      "                  Revenue  GrowthRate\n",
      "Industry                             \n",
      "Finance        1015365385    0.116132\n",
      "Healthcare     1025471213    0.098066\n",
      "Manufacturing   951073390    0.074447\n",
      "Retail         1167869358    0.079392\n",
      "Tech           1043395861    0.067932\n"
     ]
    }
   ],
   "source": [
    "# Merging industry data with business entities to gather insights on industry-specific growth\n",
    "merged_data = pd.merge(business_entities, industry_data, left_on='Industry', right_on='IndustryName', how='left')\n",
    "\n",
    "# Generating summary statistics for analysis\n",
    "summary_stats = merged_data.groupby('Industry')[['Revenue', 'GrowthRate']].agg({'Revenue': 'sum', 'GrowthRate': 'mean'})\n",
    "\n",
    "# Display summary statistics\n",
    "print(\"\\nIndustry-wise Summary of Revenue and Growth Rate:\")\n",
    "print(summary_stats)"
   ]
  },
  {
   "cell_type": "markdown",
   "id": "02baa6ae",
   "metadata": {},
   "source": [
    "## Analysis & Visualization\n"
   ]
  },
  {
   "cell_type": "code",
   "execution_count": 7,
   "id": "1c29f4b7",
   "metadata": {},
   "outputs": [
    {
     "data": {
      "image/png": "[encoded data removed]",
      "text/plain": [
       "<Figure size 1000x600 with 1 Axes>"
      ]
     },
     "metadata": {},
     "output_type": "display_data"
    }
   ],
   "source": [
    "# Pivot table to analyze the total revenue by industry\n",
    "pivot_table = pd.pivot_table(business_entities, values='Revenue', index='Industry', aggfunc=np.sum)\n",
    "\n",
    "# Visualizing total revenue by industry\n",
    "plt.figure(figsize=(10, 6))\n",
    "sns.barplot(x=pivot_table.index, y=pivot_table['Revenue'])\n",
    "plt.title('Total Revenue by Industry')\n",
    "plt.xlabel('Industry')\n",
    "plt.ylabel('Revenue (in millions)')\n",
    "plt.xticks(rotation=45)\n",
    "plt.show()"
   ]
  },
  {
   "cell_type": "markdown",
   "id": "9da91777",
   "metadata": {},
   "source": [
    "# Reporting & Insights\n",
    "\n",
    "1. **Revenue Analysis**: The Tech industry leads with the highest total revenue, followed by Healthcare and Finance\n",
    "2. **Data Quality Improvements**: Missing values in the Client Segmentation dataset were replaced with 'Unknown'.\n",
    "3. **Reconciliation Insights**: Data from multiple sources was successfully merged, showing proper alignment of entities across systems.\n"
   ]
  },
  {
   "cell_type": "markdown",
   "id": "04f5ef66",
   "metadata": {},
   "source": [
    "# Conclusion\n",
    "This project showcases essential data analysis and management skills, emphasizing key areas like managing master data, reconciling data, improving data quality, and generating analytical reports."
   ]
  },
  {
   "cell_type": "code",
   "execution_count": null,
   "id": "bf697b72",
   "metadata": {},
   "outputs": [],
   "source": []
  }
 ],
 "metadata": {
  "kernelspec": {
   "display_name": "Python 3 (ipykernel)",
   "language": "python",
   "name": "python3"
  },
  "language_info": {
   "codemirror_mode": {
    "name": "ipython",
    "version": 3
   },
   "file_extension": ".py",
   "mimetype": "text/x-python",
   "name": "python",
   "nbconvert_exporter": "python",
   "pygments_lexer": "ipython3",
   "version": "3.9.13"
  }
 },
 "nbformat": 4,
 "nbformat_minor": 5
}
